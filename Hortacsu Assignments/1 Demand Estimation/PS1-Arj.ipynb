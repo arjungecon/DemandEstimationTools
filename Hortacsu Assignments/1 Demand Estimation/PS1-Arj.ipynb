{
 "cells": [
  {
   "cell_type": "markdown",
   "id": "603eed16-9d25-42ae-86c7-2d6185de9720",
   "metadata": {},
   "source": [
    "# Assignment 1 - Implementing BLP\n",
    "\n",
    "Consider a unit mass of consumers choosing over products $j \\in \\{0, 1, 2, \\ldots, J\\}$ in markets $t = 1, 2, \\ldots, T$. Each consumer $i$'s indirect utility of purchasing product $j$ is given by\n",
    "\n",
    "$$\n",
    "    u_{ijt} \\; = \\; \\mathbf{X}_{jt} \\boldsymbol{\\beta} - \\alpha p_{jt} + \\xi_{jt} + \\varepsilon_{ijt}\n",
    "$$\n",
    "\n",
    "where $\\mathbf{X}_{jt}$ is observable product characteristics and $p_{jt}$ is price. $\\xi_{jt}$ is unobserved (by researchers)\n",
    "product characteristics. $\\varepsilon_{ijt}$ is unobserved (by researchers) product/consumer match value that is i.i.d. T1EV."
   ]
  },
  {
   "cell_type": "code",
   "execution_count": null,
   "id": "122c9ead-c36c-479d-8ad4-c42cf4cdefef",
   "metadata": {},
   "outputs": [],
   "source": []
  }
 ],
 "metadata": {
  "kernelspec": {
   "display_name": "Python 3 (ipykernel)",
   "language": "python",
   "name": "python3"
  },
  "language_info": {
   "codemirror_mode": {
    "name": "ipython",
    "version": 3
   },
   "file_extension": ".py",
   "mimetype": "text/x-python",
   "name": "python",
   "nbconvert_exporter": "python",
   "pygments_lexer": "ipython3",
   "version": "3.9.6"
  }
 },
 "nbformat": 4,
 "nbformat_minor": 5
}
