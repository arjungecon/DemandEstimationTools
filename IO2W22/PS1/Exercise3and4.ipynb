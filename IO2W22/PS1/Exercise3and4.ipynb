{
 "cells": [
  {
   "cell_type": "code",
   "execution_count": 2,
   "id": "abbbfb4f-74f6-4253-bb83-dbe6f7ae6442",
   "metadata": {},
   "outputs": [],
   "source": [
    "import numpy as np\n",
    "import pandas as pd\n",
    "import statsmodels.api as sm\n",
    "import pyblp as blp\n",
    "import torch\n",
    "import torch.nn as nn\n",
    "\n",
    "blp.options.digits = 2\n",
    "blp.options.verbose = False"
   ]
  },
  {
   "cell_type": "markdown",
   "id": "6b9f7343-a0de-4919-b26d-2a3b23c49f52",
   "metadata": {},
   "source": [
    "## Exercise 3\n",
    "\n",
    "The file `ps1_ex3.csv` contains aggregate data on a large number $T=1000$ of markets in which $J=6$ products compete between each other together with an outside good $j=0$. The utility of consumer $i$ is given by:\n",
    "\n",
    "$$\n",
    "\\begin{aligned}\n",
    "&u_{i j t}=-\\alpha p_{j t}+\\beta x_{j t}+\\xi_{j t}+\\epsilon_{i j t} \\quad j=1, \\ldots, 6 \\\\\n",
    "&u_{i 0 t}=\\epsilon_{i 0 t}\n",
    "\\end{aligned}\n",
    "$$\n",
    "\n",
    "where $p_{j t}$ is the price of product $j$ in market $t, x_{j t}$ is an observed product characteristic, $\\xi_{j t}$ is an unobserved product characteristic and $\\epsilon_{i j t}$ is i.i.d T1EV $(0,1)$. Our goal is to to estimate demand parameters $(\\alpha, \\beta)$ and perform some counterfactual exercises."
   ]
  },
  {
   "cell_type": "code",
   "execution_count": 3,
   "id": "8ed81671-ea13-428b-99bd-5741b2eed279",
   "metadata": {},
   "outputs": [],
   "source": [
    "# Load the dataset.\n",
    "\n",
    "data_ex3 = pd.read_csv('ps1_ex3.csv')"
   ]
  },
  {
   "cell_type": "markdown",
   "id": "ef8d33cb-f2de-490e-89b3-234273bde825",
   "metadata": {},
   "source": [
    "### Part A\n",
    "\n",
    "Assuming that the variable $z$ in the dataset is a valid instrument for prices, write down the moment condition that allows you to consistently estimate $(\\alpha, \\beta)$ and obtain an estimate for both parameters.\n",
    "\n",
    "------------------------------------------------------------------------------------------------------\n",
    "\n",
    "Under the T1EV assumption, we can derive the following individual conditional choice probability which corresponds to the predicted market share for product $j$ at time $t$. This can be approximated from the data using the observed market share $s_j$.\n",
    "\n",
    "$$\n",
    "\\operatorname{Pr}(i \\text{ chooses }j) \\; = \\; \\frac{\\exp \\left(-\\alpha p_{jt}+\\mathbf{x}_{jt} \\beta+\\xi_{jt}\\right)}{\\sum_{k \\in \\mathcal{J}_{t}} \\exp \\left(-\\alpha p_{kt}+\\mathbf{x}_{kt} \\beta+\\xi_{kt}\\right)} \\; \\approx \\; s_j\n",
    "$$\n"
   ]
  },
  {
   "cell_type": "code",
   "execution_count": null,
   "id": "2dbc1e28-fa53-450d-b237-ecf2883a41f7",
   "metadata": {},
   "outputs": [],
   "source": []
  }
 ],
 "metadata": {
  "kernelspec": {
   "display_name": "Python 3.9.6 64-bit",
   "language": "python",
   "name": "python396jvsc74a57bd0bf88eea2e90ce10868d34ddfb17a2387af41682c0f3beb37e979d3e0307e8027"
  },
  "language_info": {
   "codemirror_mode": {
    "name": "ipython",
    "version": 3
   },
   "file_extension": ".py",
   "mimetype": "text/x-python",
   "name": "python",
   "nbconvert_exporter": "python",
   "pygments_lexer": "ipython3",
   "version": "3.9.6"
  }
 },
 "nbformat": 4,
 "nbformat_minor": 5
}
