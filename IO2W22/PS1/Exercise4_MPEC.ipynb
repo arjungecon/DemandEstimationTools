{
 "cells": [
  {
   "cell_type": "code",
   "execution_count": null,
   "metadata": {
    "collapsed": true
   },
   "outputs": [],
   "source": [
    "import numpy as np\n",
    "import pandas as pd\n",
    "import statsmodels.api as sm\n",
    "import pyblp as blp\n",
    "import torch\n",
    "from torch.autograd import Variable\n",
    "import torch.optim as optim\n",
    "from linearmodels.iv import IV2SLS\n",
    "from HomogenousDemandEstimation import HomDemEst\n",
    "from GaussHermiteQuadrature import GaussHermiteQuadrature\n",
    "\n",
    "blp.options.digits = 2\n",
    "blp.options.verbose = False\n",
    "nax = np.newaxis"
   ]
  },
  {
   "cell_type": "code",
   "source": [
    "# Load the dataset.\n",
    "data_ex4 = pd.read_csv('ps1_ex4.csv')\n",
    "data_ex4['const'] = 1.0  # Add a constant term\n",
    "\n",
    "num_prod = data_ex4.choice.nunique()  # Number of products to choose from.\n",
    "num_T = data_ex4.market.nunique()\n",
    "\n",
    "# Create outside option shares and merge into dataset.\n",
    "share_total = data_ex4.groupby(['market'])['shares'].sum().reset_index()\n",
    "share_total.rename(columns={'shares': 's0'}, inplace=True)\n",
    "share_total['s0'] = 1 - share_total['s0']\n",
    "data_ex4 = pd.merge(data_ex4, share_total, on='market')\n",
    "\n",
    "# Create natural log of share ratios\n",
    "data_ex4['sr'] = np.log(data_ex4['shares'] / data_ex4['s0'])\n",
    "\n",
    "# Create constant term\n",
    "data_ex4['const'] = 1"
   ],
   "metadata": {
    "collapsed": false,
    "pycharm": {
     "name": "#%%\n"
    }
   },
   "execution_count": null,
   "outputs": []
  },
  {
   "cell_type": "code",
   "execution_count": null,
   "outputs": [],
   "source": [
    "# Obtain initial guess for β using the homogenous model.\n",
    "\n",
    "est = HomDemEst(data_dict={\n",
    "    'Data': data_ex4,\n",
    "    'Choice Column': 'choice',\n",
    "    'Market Column': 'market',\n",
    "    'Log Share Ratio Column': 'sr',\n",
    "    'Endogenous Columns': ['p'],\n",
    "    'Exogenous Columns': ['x'],\n",
    "    'Instrument Columns': ['z1', 'z2', 'z3', 'z4', 'z5', 'z6'],\n",
    "    'Add Constant': True\n",
    "})\n",
    "\n",
    "beta_guess = torch.tensor(np.array(est.one_step_gmm().detach()), dtype=torch.double)\n",
    "ghq = GaussHermiteQuadrature(2, 9)\n",
    "ghq_node_mat = ghq.X.T"
   ],
   "metadata": {
    "collapsed": false,
    "pycharm": {
     "name": "#%%\n"
    }
   }
  },
  {
   "cell_type": "code",
   "execution_count": null,
   "outputs": [],
   "source": [
    "# Set parameters for the optimization procedure.\n",
    "gamma = Variable(3 * torch.rand((2, 2), dtype=torch.double), requires_grad=True)\n",
    "beta = Variable(beta_guess, requires_grad=True)\n",
    "xi = Variable(torch.zeros((num_prod * num_T, 1), dtype=torch.double), requires_grad=True)\n",
    "\n",
    "# Save data as Pytorch tensors.\n",
    "shares = torch.tensor(np.array(data_ex4['shares']),\n",
    "                      dtype=torch.double)\n",
    "covars = torch.tensor(np.array(data_ex4[['const', 'x', 'p']]),\n",
    "                      dtype=torch.double)\n",
    "num_covar = covars.size()[1]\n",
    "instruments = torch.tensor(np.array(data_ex4[['const', 'x', 'z1', 'z2',\n",
    "                                              'z3', 'z4', 'z5', 'z6']]),\n",
    "                           dtype=torch.double)\n",
    "x_mat = covars.reshape((num_T, num_prod, num_covar))\n",
    "s_mat = shares.reshape((num_T, num_prod))\n",
    "\n",
    "x_random_mat = x_mat[:, :, 1:-1]\n"
   ],
   "metadata": {
    "collapsed": false,
    "pycharm": {
     "name": "#%%\n"
    }
   }
  },
  {
   "cell_type": "code",
   "execution_count": null,
   "outputs": [],
   "source": [
    "def mean_utility(b, res):\n",
    "    return covars @ b[:, None] + res\n",
    "\n",
    "def market_share_val(delta, g):\n",
    "    # Evaluate the expression for every market, product and\n",
    "    # Gauss-Hermite node.\n",
    "    # Returns a matrix of size (num_T, num_prod, GHQ_size).\n",
    "\n",
    "    numer = torch.exp(delta[:, :, None] + torch.einsum('tjk,kl,lm -> tjm', x_random_mat, g, ghq_node_mat))\n",
    "    denom = 1 + numer.sum(axis=1)\n",
    "\n",
    "    # Compute the share matrix for every value of unobserved individual characteristics.\n",
    "    share_mat = numer.div(denom[:, None])\n",
    "\n",
    "    # Take the expected value of the above matrix using a GH integral\n",
    "    # approximation.\n",
    "    exp_share = torch.einsum('m, tjm -> tj', ghq.W, share_mat)\n",
    "\n",
    "    return exp_share\n",
    "\n",
    "\n",
    "def blp_mpec_constraint(b, g, res):\n",
    "    # Initial guess for mean utility\n",
    "    delta = mean_utility(b, res).reshape((num_T, num_prod))\n",
    "\n",
    "    return market_share_val(delta, g)\n"
   ],
   "metadata": {
    "collapsed": false,
    "pycharm": {
     "name": "#%%\n"
    }
   }
  },
  {
   "cell_type": "code",
   "execution_count": null,
   "outputs": [],
   "source": [
    "def blp_gmm_loss(b, g, res):\n",
    "\n",
    "    # Derive moment conditions required for BLP.\n",
    "    moment_eqns = res * instruments\n",
    "    moments = moment_eqns.mean(axis=0)\n",
    "\n",
    "    loss_gmm = moments[None, :] @ weight_matrix @ moments[:, None]\n",
    "\n",
    "    print('beta = {}, gamma = {}, loss = {}'.format(np.array(b.clone().detach()),\n",
    "                                                    np.array(g.clone().detach()),\n",
    "                                                    loss_gmm.clone().detach())\n",
    "          )\n",
    "\n",
    "    return loss_gmm, moment_eqns"
   ],
   "metadata": {
    "collapsed": false,
    "pycharm": {
     "name": "#%%\n"
    }
   }
  },
  {
   "cell_type": "code",
   "execution_count": null,
   "outputs": [],
   "source": [
    "opt_gmm = optim.Adam([beta, gamma, xi], lr=0.01)\n",
    "weight_matrix = Variable(torch.eye(instruments.shape[1], dtype=torch.double), requires_grad=False)\n",
    "\n",
    "# Optimizing over the GMM loss function\n",
    "for epoch in range(500):\n",
    "    opt_gmm.zero_grad()  # Reset gradient inside the optimizer\n",
    "\n",
    "    # Compute the objective at the current parameter values.\n",
    "    loss, moment_x = blp_gmm_loss(beta, gamma, xi)\n",
    "    loss.backward()  # Gradient computed.\n",
    "\n",
    "    opt_gmm.step()  # Update parameter values using gradient descent.\n",
    "\n",
    "    with torch.no_grad():\n",
    "\n",
    "\n",
    "    # beta = beta2.detach().clone()\n",
    "\n",
    "    # if epoch % 10 == 0:\n",
    "    #\n",
    "    #     loss_val = np.squeeze(loss.detach())\n",
    "    #     print('Iteration [{}]: Loss = {:2.4e}'.format(epoch, loss_val))\n"
   ],
   "metadata": {
    "collapsed": false,
    "pycharm": {
     "name": "#%%\n"
    }
   }
  }
 ],
 "metadata": {
  "kernelspec": {
   "display_name": "Python 3",
   "language": "python",
   "name": "python3"
  },
  "language_info": {
   "codemirror_mode": {
    "name": "ipython",
    "version": 2
   },
   "file_extension": ".py",
   "mimetype": "text/x-python",
   "name": "python",
   "nbconvert_exporter": "python",
   "pygments_lexer": "ipython2",
   "version": "2.7.6"
  }
 },
 "nbformat": 4,
 "nbformat_minor": 0
}