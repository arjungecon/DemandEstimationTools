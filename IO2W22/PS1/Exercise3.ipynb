{
 "cells": [
  {
   "cell_type": "code",
   "execution_count": 1,
   "id": "abbbfb4f-74f6-4253-bb83-dbe6f7ae6442",
   "metadata": {},
   "outputs": [],
   "source": [
    "import numpy as np\n",
    "import pandas as pd\n",
    "import pyblp as blp\n",
    "import torch\n",
    "from torch.autograd import Variable\n",
    "import torch.optim as optim\n",
    "from linearmodels.iv import IV2SLS\n",
    "from HomogenousDemandEstimation import HomDemEst\n",
    "\n",
    "blp.options.digits = 2\n",
    "blp.options.verbose = False\n",
    "nax = np.newaxis"
   ]
  },
  {
   "cell_type": "markdown",
   "id": "6b9f7343-a0de-4919-b26d-2a3b23c49f52",
   "metadata": {},
   "source": [
    "## Exercise 3\n",
    "\n",
    "The file `ps1_ex3.csv` contains aggregate data on a large number $T=1000$ of markets in which $J=6$ products compete between each other together with an outside good $j=0$. The utility of consumer $i$ is given by:\n",
    "\n",
    "$$\n",
    "\\begin{aligned}\n",
    "&u_{i j t} \\; = \\; -\\alpha p_{j t}+ \\mathbf{x}_{j t} \\boldsymbol{\\beta} +\\xi_{j t}+\\epsilon_{i j t} \\quad j=1, \\ldots, 6 \\\\\n",
    "&u_{i 0 t} \\; = \\; \\epsilon_{i 0 t}\n",
    "\\end{aligned}\n",
    "$$\n",
    "\n",
    "where $p_{j t}$ is the price of product $j$ in market $t,\\mathbf{x}_{j t}$ is an observed product characteristic (including a constant), $\\xi_{j t}$ is an unobserved product characteristic and $\\epsilon_{i j t}$ is i.i.d T1EV $(0,1)$. Our goal is to to estimate demand parameters $(\\alpha, \\boldsymbol{\\beta})$ and perform some counterfactual exercises."
   ]
  },
  {
   "cell_type": "code",
   "execution_count": 2,
   "id": "8ed81671-ea13-428b-99bd-5741b2eed279",
   "metadata": {},
   "outputs": [],
   "source": [
    "# Load the dataset.\n",
    "data_ex3 = pd.read_csv('ps1_ex3.csv')\n",
    "num_prod = data_ex3.Product.max()\n",
    "num_T = data_ex3.market.max()"
   ]
  },
  {
   "cell_type": "markdown",
   "id": "ef8d33cb-f2de-490e-89b3-234273bde825",
   "metadata": {},
   "source": [
    "### Part 1\n",
    "\n",
    "Assuming that the variable $z$ in the dataset is a valid instrument for prices, write down the moment condition that allows you to consistently estimate $(\\alpha, \\beta)$ and obtain an estimate for both parameters.\n",
    "\n",
    "------------------------------------------------------------------------------------------------------\n",
    "\n",
    "Under the T1EV assumption, we can derive the CCPs which corresponds to the predicted market share for product $j$ at time $t$. This can be approximated from the data using the observed market share $s_{jt}$.\n",
    "\n",
    "$$\n",
    "\\operatorname{Pr}(i \\text{ chooses }j \\text{ at time } t) \\; = \\; \\frac{\\exp \\left(-\\alpha p_{jt}+\\mathbf{x}_{jt}'\\boldsymbol{\\beta} + \\xi_{jt}\\right)}{\\sum_{k \\in \\mathcal{J}_{t}} \\exp \\left(-\\alpha p_{kt}+\\mathbf{x}_{kt}'\\boldsymbol{\\beta}+\\xi_{kt}\\right)} \\; \\approx \\; s_{jt}\n",
    "$$\n",
    "\n",
    "We can invoke the normalization assumption on $u_{i0}$ and take the logarithm of the share ratio $s_{jt}/s_{0t}$ to obtain\n",
    "\n",
    "$$\n",
    "    \\ln \\left({\\frac{s_{jt}}{s_{0t}}}\\right) \\; = \\; -\\alpha p_{jt}+ \\mathbf{x}_{jt}'\\boldsymbol{\\beta}+\\xi_{jt}\n",
    "$$"
   ]
  },
  {
   "cell_type": "code",
   "execution_count": 3,
   "id": "f5be51f1",
   "metadata": {
    "collapsed": false,
    "jupyter": {
     "outputs_hidden": false
    },
    "pycharm": {
     "name": "#%%\n"
    }
   },
   "outputs": [],
   "source": [
    "# Create outside option shares and merge into dataset.\n",
    "share_total = data_ex3.groupby(['market'])['Shares'].sum().reset_index()\n",
    "share_total.rename(columns={'Shares': 's0'}, inplace=True)\n",
    "share_total['s0'] = 1 - share_total['s0']\n",
    "data_ex3 = pd.merge(data_ex3, share_total, on='market')\n",
    "\n",
    "# Create natural log of share ratios\n",
    "data_ex3['s_ratio'] = np.log(data_ex3['Shares']/data_ex3['s0'])"
   ]
  },
  {
   "cell_type": "markdown",
   "id": "318fb55d",
   "metadata": {},
   "source": [
    "Given that $z_{jt}$ is a relevant instrument for $p_{jt}$ and that $\\mathbf{x}_{jt}$ is exogenous, we can impose the conditional exogeneity restriction\n",
    "\n",
    "$$\n",
    "\\mathbb{E}\\left[\\xi_{jt} \\mid \\mathbf{x}_{jt}, z_{jt} \\right] = 0\n",
    "$$\n",
    "\n",
    "in order to estimate $\\alpha$ and $\\boldsymbol{\\beta}$. Using the Law of Iterated Expectations, we can conclude that\n",
    "\n",
    "$$\n",
    "\\mathbb{E} \\left[ \\begin{pmatrix} \\mathbf{x}_{jt} \\\\ z_{jt} \\end{pmatrix}\n",
    "    \\xi_{jt} \\right] \\; = \\;  \\mathbb{E}  \n",
    "    \\left[ \\begin{pmatrix} \\mathbf{x}_{jt} \\\\ z_{jt} \\end{pmatrix} \\left\\{ \\ln \\left({\\frac{s_{jt}}{s_{0t}}}\\right) + \\alpha p_{jt} - \\mathbf{x}_{jt}'\\boldsymbol{\\beta} \\right\\}\\right] \\; = \\; \\begin{pmatrix} 0 \\\\ 0 \\end{pmatrix}\n",
    "$$\n",
    "\n",
    "Given that $3$ moment conditions across all products and markets, we are exactly identifying $\\alpha$ and $\\beta$.\n",
    "\n",
    "GMM provides the minimizer corresponding to a quadratic loss function with 3 moments.\n",
    "\n",
    "$$\n",
    "    \\begin{pmatrix} \\widehat{\\alpha} \\\\ \\widehat{\\boldsymbol\\beta} \\end{pmatrix} \\quad \\in \\;\\; \\underset{\\begin{pmatrix} \\alpha \\\\ \\boldsymbol{\\beta} \\end{pmatrix}}{\\arg \\min}  \\left[ \\frac{1}{T \\times J} \\sum_{t} \\sum_{j} x_{jt} \\left\\{\\ln \\left({\\frac{s_{jt}}{s_{0t}}}\\right) + \\alpha p_{jt} - \\mathbf{x}_{jt}'\\boldsymbol{\\beta} \\right\\} \\right]\n",
    "$$\n",
    "\n",
    "I perform the two-step procedure to obtain the efficient GMM estimator of the model parameters.\n"
   ]
  },
  {
   "cell_type": "code",
   "execution_count": 4,
   "id": "4eb3e3b6-c5bf-42f6-a957-dd38ac20365d",
   "metadata": {
    "collapsed": false,
    "jupyter": {
     "outputs_hidden": false
    },
    "pycharm": {
     "name": "#%%\n"
    }
   },
   "outputs": [],
   "source": [
    "est = HomDemEst(data_dict={\n",
    "   'Data': data_ex3,\n",
    "   'Choice Column': 'Product',\n",
    "   'Market Column': 'market',\n",
    "   'Log Share Ratio Column': 's_ratio',\n",
    "   'Endogenous Columns': ['Prices'],\n",
    "   'Exogenous Columns': ['x'],\n",
    "   'Instrument Columns': ['z'],\n",
    "   'Add Constant': True\n",
    "})\n",
    "\n",
    "results = est.run_gmm()"
   ]
  },
  {
   "cell_type": "code",
   "execution_count": 5,
   "id": "1441a1c3-537b-4f40-b5ff-ba32d2aa8987",
   "metadata": {
    "collapsed": false,
    "jupyter": {
     "outputs_hidden": false
    },
    "pycharm": {
     "name": "#%%\n"
    }
   },
   "outputs": [
    {
     "data": {
      "text/plain": [
       "tensor([ 0.7289,  0.3047, -0.4675], dtype=torch.float64)"
      ]
     },
     "execution_count": 5,
     "metadata": {},
     "output_type": "execute_result"
    }
   ],
   "source": [
    "results['Coefficients']"
   ]
  },
  {
   "cell_type": "code",
   "execution_count": 6,
   "id": "4354498b-ebc6-43dd-b472-45598ca2e986",
   "metadata": {
    "collapsed": false,
    "jupyter": {
     "outputs_hidden": false
    },
    "pycharm": {
     "name": "#%%\n"
    }
   },
   "outputs": [
    {
     "data": {
      "text/plain": [
       "tensor([0.1989, 0.0084, 0.0633], dtype=torch.float64)"
      ]
     },
     "execution_count": 6,
     "metadata": {},
     "output_type": "execute_result"
    }
   ],
   "source": [
    "torch.sqrt(torch.diag(results['Covariance Matrix']))"
   ]
  },
  {
   "cell_type": "markdown",
   "id": "b0df41a6",
   "metadata": {},
   "source": [
    "We find the following estimates for $\\alpha$ and $\\boldsymbol{\\beta}$.\n",
    "\n",
    "$$\n",
    "\\quad\n",
    "$$\n",
    "\n",
    "|      Coefficient       | Estimate | Std. Error |\n",
    "|:----------------------:|:--------:|:----------:|\n",
    "|        Constant        |  0.7289  |   0.1989   |\n",
    "|         Prices         |  0.4675  |   0.0633   |\n",
    "| Product Characteristic |  0.3047  |   0.0084   |\n"
   ]
  },
  {
   "cell_type": "code",
   "execution_count": 7,
   "id": "df7075d5",
   "metadata": {
    "collapsed": false,
    "jupyter": {
     "outputs_hidden": false
    },
    "pycharm": {
     "name": "#%%\n"
    }
   },
   "outputs": [
    {
     "name": "stdout",
     "output_type": "stream",
     "text": [
      "                          IV-2SLS Estimation Summary                          \n",
      "==============================================================================\n",
      "Dep. Variable:                s_ratio   R-squared:                      0.0018\n",
      "Estimator:                    IV-2SLS   Adj. R-squared:                 0.0015\n",
      "No. Observations:                6000   F-statistic:                    1575.0\n",
      "Date:                Sun, Feb 06 2022   P-value (F-stat)                0.0000\n",
      "Time:                        11:46:39   Distribution:                  chi2(2)\n",
      "Cov. Estimator:            unadjusted                                         \n",
      "                                                                              \n",
      "                             Parameter Estimates                              \n",
      "==============================================================================\n",
      "            Parameter  Std. Err.     T-stat    P-value    Lower CI    Upper CI\n",
      "------------------------------------------------------------------------------\n",
      "const          0.7289     0.1944     3.7487     0.0002      0.3478      1.1100\n",
      "x              0.3047     0.0083     36.553     0.0000      0.2883      0.3210\n",
      "Prices        -0.4675     0.0618    -7.5651     0.0000     -0.5886     -0.3464\n",
      "==============================================================================\n",
      "\n",
      "Endogenous: Prices\n",
      "Instruments: z\n",
      "Unadjusted Covariance (Homoskedastic)\n",
      "Debiased: False\n"
     ]
    }
   ],
   "source": [
    "data_ex3['const'] = 1\n",
    "\n",
    "iv = IV2SLS(dependent=data_ex3['s_ratio'],\n",
    "       exog=data_ex3[['const', 'x']],\n",
    "       endog=data_ex3['Prices'],\n",
    "       instruments=data_ex3['z']).fit(cov_type='unadjusted')\n",
    "\n",
    "print(iv.summary)"
   ]
  },
  {
   "cell_type": "markdown",
   "id": "ec0a1937",
   "metadata": {},
   "source": [
    "$$\n",
    "\\quad\n",
    "$$\n",
    "\n",
    "----------------------------------------------------------\n",
    "\n",
    "\n",
    "### Part 2\n",
    "\n",
    "We know that the elasticities for homogenous demand are given by\n",
    "\n",
    "$$\n",
    "    \\varepsilon_{j k, t} \\; = \\;\n",
    "    \\begin{cases}-\\alpha p_{j, t}\\left(1-\\pi_{j, t}\\right) & \\text { if } j=k \\\\ \\alpha p_{k, t} \\pi_{k, t} & \\text { otherwise }\\end{cases}\n",
    "$$"
   ]
  },
  {
   "cell_type": "code",
   "execution_count": 8,
   "id": "0d0a1311",
   "metadata": {
    "collapsed": false,
    "jupyter": {
     "outputs_hidden": false
    },
    "pycharm": {
     "name": "#%%\n"
    }
   },
   "outputs": [],
   "source": [
    "α = -np.array(results['Coefficients'])[-1]"
   ]
  },
  {
   "cell_type": "code",
   "execution_count": 9,
   "id": "a39b8440",
   "metadata": {
    "collapsed": false,
    "jupyter": {
     "outputs_hidden": false
    },
    "pycharm": {
     "name": "#%%\n"
    }
   },
   "outputs": [],
   "source": [
    "# Compute the own and cross-price elasticity for each market and pair of products.\n",
    "data_ex3['own'] = -α * data_ex3['Prices'] * (1 - data_ex3['Shares'])\n",
    "data_ex3['cross'] = α * data_ex3['Prices'] * data_ex3['Shares']\n",
    "e_mean = data_ex3.groupby(['Product'])[['own', 'cross']].mean()\n",
    "\n",
    "# Generate matrix of average elasticities.\n",
    "e_mat = np.tile(e_mean['cross'], (num_prod, 1))\n",
    "np.fill_diagonal(e_mat, e_mean['own'])\n",
    "\n",
    "# Convert it to a dataframe.\n",
    "prod_list = list(map(str, range(1, num_prod+ 1)))\n",
    "e_mat = pd.DataFrame(e_mat, index=prod_list, columns=prod_list)"
   ]
  },
  {
   "cell_type": "markdown",
   "id": "f39bba0f",
   "metadata": {},
   "source": [
    "| j/k       |                 Product 1 |    Product 2 | Product 3 | Product 4 |  Product 5 |         Product 6 |\n",
    "|:----------|--------------------------:|-------------:|----------:|----------:|-----------:|------------------:|\n",
    "| Product 1 |                 -1.249624 |     0.323002 |  0.128738 |  0.127154 |   0.125510 |          0.129465 |\n",
    "| Product 2 |                  0.321076 |    -1.251242 |  0.128738 |  0.127154 |   0.125510 |          0.129465 |\n",
    "| Product 3 |                  0.321076 |     0.323002 | -1.289146 |  0.127154 |   0.125510 |          0.129465 |\n",
    "| Product 4 |                  0.321076 |     0.323002 |  0.128738 | -1.293869 |   0.125510 |          0.129465 |\n",
    "| Product 5 |                  0.321076 |     0.323002 |  0.128738 |  0.127154 |  -1.291425 |          0.129465 |\n",
    "| Product 6 |                  0.321076 |     0.323002 |  0.128738 |  0.127154 |   0.125510 |         -1.290799 |"
   ]
  },
  {
   "cell_type": "markdown",
   "id": "e159e126",
   "metadata": {},
   "source": [
    "The results above show that the own-price elasticities are pretty consistent across the various products, and that the magnitude of the cross-price elasticities is lower than the corresponding own-price elasticities.\n",
    "\n",
    "$$\n",
    "\\quad\n",
    "$$\n",
    "\n",
    "----------------------------------------------------------\n",
    "\n",
    "\n",
    "### Part 3\n",
    "\n",
    "To back out the marginal costs for producing each product in market $t$, we must first construct the conduct matrix $\\mathbf{H}_t$ corresponding to the entire choice set. Since we assume that firms are single-product producers in all markets, the conduct matrix will be an identity matrix of dimension $6$. Furthermore, we will need the matrix $\\boldsymbol{\\Omega}_t$ containing partial derivatives $- \\partial q_{kt} / \\partial p_{jt}$ multiplied by the corresponding entries $\\mathbf{H}_t$. However, since $\\mathbf{H}_t$ is an identity matrix, we only need to compute the diagonal entries of $\\boldsymbol{\\Omega}_t$ as all the off-diagonals entries will equal $0$. Therefore, we can back out the following expression for diagonal element $j$ of $\\boldsymbol{\\Omega}_t$ assuming that $N_t$ represents the total size of the market.\n",
    "\n",
    "$$\n",
    "    \\Omega_{jj,t} \\; = \\; - \\frac{\\partial q_{jt}}{\\partial p_{jt}} \\; = \\; - \\varepsilon_{jj, t} \\frac{ q_{jt}}{ p_{jt}} \\; = \\; - \\varepsilon_{jj, t} \\frac{s_{jt}}{ p_{jt}} N_t\n",
    "$$\n",
    "\n",
    "The firm's profit maximization problem yields the following FOC:\n",
    "\n",
    "$$\n",
    "    \\mathbf{p}_t - \\mathbf{mc}_t \\; = \\; \\boldsymbol{\\Omega}_t^{-1} \\mathbf{q}(\\mathbf{p}_t) \\; = \\;\\boldsymbol{\\Omega}^{-1}_t \\mathbf{s}(\\mathbf{p}_t) N_t\n",
    "$$\n",
    "\n",
    "Since $\\boldsymbol{\\Omega}$ is a diagonal matrix, we can back out the marginal cost of each product $j$ in market $t$ independently of the other products.\n",
    "\n",
    "$$\n",
    "    {p}_{jt} - \\text{mc}_{jt} \\; = \\; {\\Omega}^{-1}_{jj,t} s_{jt} N_t \\\\\n",
    "    \\text{mc}_{jt} \\; = \\; p_{jt} + \\frac{1}{\\varepsilon_{jj, t} N_t}\\frac{ p_{jt}}{s_{jt}} {s}_{jt} N_t \\; = \\; p_{jt} \\left(1  + \\frac{1}{\\varepsilon_{jj, t}} \\right)\n",
    "$$"
   ]
  },
  {
   "cell_type": "code",
   "execution_count": 11,
   "id": "d638acb8",
   "metadata": {
    "collapsed": false,
    "jupyter": {
     "outputs_hidden": false
    },
    "pycharm": {
     "name": "#%%\n"
    }
   },
   "outputs": [],
   "source": [
    "data_ex3['mc'] = data_ex3['Prices'] * (1 + 1/data_ex3['own'])\n",
    "mc_avg = data_ex3.groupby(['Product'])['mc'].mean()"
   ]
  },
  {
   "cell_type": "code",
   "execution_count": 12,
   "id": "083732db",
   "metadata": {
    "collapsed": false,
    "jupyter": {
     "outputs_hidden": false
    },
    "pycharm": {
     "name": "#%%\n"
    }
   },
   "outputs": [],
   "source": [
    "all_avg = data_ex3.groupby(['Product'])[['Prices', 'Shares', 'mc']].mean()"
   ]
  },
  {
   "cell_type": "markdown",
   "id": "d5765a28",
   "metadata": {
    "pycharm": {
     "name": "#%% md\n"
    }
   },
   "source": [
    "We obtain the following average (across markets) marginal cost for each product. They are highly positively correlated with the average (across markets) prices and shares.\n",
    "\n",
    "$$\n",
    "    \\quad\n",
    "$$\n",
    "\n",
    "|  Product   | Average Price | Average Share | Average MC |\n",
    "|:----------:|:-------------:|:-------------:|:----------:|\n",
    "|     1      |    3.35995    |   0.202451    |  0.667126  |\n",
    "|     2      |    3.36753    |   0.203076    |  0.671897  |\n",
    "|     3      |    3.03306    |   0.0903493   |  0.678684  |\n",
    "|     4      |    3.03977    |   0.0889407   |  0.688906  |\n",
    "|     5      |    3.03103    |   0.0881716   |  0.682632  |\n",
    "|     6      |    3.03815    |   0.0906875   |  0.682689  |\n",
    "\n",
    "$$\n",
    "\\quad\n",
    "$$\n",
    "\n",
    "----------------------------------------------------------\n",
    "\n",
    "### Part 4\n",
    "\n",
    "Suppose that product $j=1$ exits the market, and marginal costs and product characteristics for the other products remain unchanged. Since the elasticities of demand for each product remain unchanged and given that all firms are single-product producers, the matrix $\\Omega$ does not change for the remaining products, which implies that prices do not change for the products and average prices stay the same. To compute the new shares, we will recompute $s_0$ from the log share ratios for products $j = 2, \\cdots, 6$. Under the new regime, we have that $\\sum_{j = 0, 2}^6 s_j = 1$. Therefore, we can write that\n",
    "\n",
    "$$\n",
    "    \\sum_{j = 2}^6 \\exp \\log \\frac{s_j}{s_0} = \\frac{1-s_0}{s_0} \\;\\; \\Rightarrow \\;\\; s_0 \\; = \\; {\\left(1 + \\sum_{j = 2}^6 \\, \\frac{s_j}{s_0} \\right)}^{-1}\n",
    "$$"
   ]
  },
  {
   "cell_type": "code",
   "execution_count": null,
   "id": "e06645a6",
   "metadata": {
    "collapsed": false,
    "jupyter": {
     "outputs_hidden": false
    },
    "pycharm": {
     "is_executing": true,
     "name": "#%%\n"
    }
   },
   "outputs": [],
   "source": [
    "data_new = data_ex3.query('Product != 1')\n",
    "data_new.drop(columns=['s0'], inplace=True)\n",
    "data_new['exp_s_ratio'] = np.exp(data_new['s_ratio'])\n",
    "\n",
    "# Create sum of share ratios\n",
    "new_s0 = data_new.groupby(['market'])['exp_s_ratio'].sum().reset_index()\n",
    "new_s0.rename(columns={'exp_s_ratio': 's0'}, inplace=True)\n",
    "new_s0.loc[:, 's0'] = 1 / (1 + new_s0.loc[:, 's0'])\n",
    "data_new = pd.merge(data_new, new_s0, on='market')\n",
    "data_new['Shares_new'] = data_new['exp_s_ratio'] * data_new['s0']\n",
    "# data_new.drop(columns=['exp_s_ratio'])\n",
    "\n",
    "data_new['Profit_old'] = (data_new['Prices'] - data_new['mc']) * data_new['Shares']\n",
    "data_new['Profit_new'] = (data_new['Prices'] - data_new['mc']) * data_new['Shares_new']\n",
    "data_new['Profit_change'] = data_new['Profit_new'] - data_new['Profit_old']"
   ]
  },
  {
   "cell_type": "code",
   "execution_count": 14,
   "id": "e5f3ceaa",
   "metadata": {
    "collapsed": false,
    "jupyter": {
     "outputs_hidden": false
    },
    "pycharm": {
     "name": "#%%\n"
    }
   },
   "outputs": [],
   "source": [
    "new_avg = data_new.groupby(['Product'])[['Prices', 'Shares_new', 'mc', 'Profit_old', 'Profit_new', 'Profit_change']].mean()"
   ]
  },
  {
   "cell_type": "markdown",
   "id": "9556fc04",
   "metadata": {
    "pycharm": {
     "name": "#%% md\n"
    }
   },
   "source": [
    "$$\n",
    "    \\quad\n",
    "$$\n",
    "\n",
    "|  Product   | Average Price | Average Share | Average Change in Profits |\n",
    "|:----------:|:-------------:|:-------------:|:-------------------------:|\n",
    "|     2      |    3.36753    |   0.254303    |         0.139413          |\n",
    "|     3      |    3.03306    |   0.113245    |         0.054411          |\n",
    "|     4      |    3.03977    |   0.111318    |         0.053106          |\n",
    "|     5      |    3.03103    |   0.110616    |         0.053617          |\n",
    "|     6      |    3.03815    |   0.113617    |         0.054554          |\n",
    "\n",
    "$$\n",
    "\\quad\n",
    "$$\n",
    "\n",
    "We see that all products (and correspondingly the firms that produce them) face an increase in profits, especially product 2. Consumers will face a reduction in welfare due to the increase in concentration of market power among the remaining firms."
   ]
  },
  {
   "cell_type": "code",
   "execution_count": 14,
   "id": "071bb586",
   "metadata": {
    "collapsed": false,
    "jupyter": {
     "outputs_hidden": false
    },
    "pycharm": {
     "name": "#%%\n"
    }
   },
   "outputs": [],
   "source": []
  }
 ],
 "metadata": {
  "kernelspec": {
   "display_name": "Python 3 (ipykernel)",
   "language": "python",
   "name": "python3"
  },
  "language_info": {
   "codemirror_mode": {
    "name": "ipython",
    "version": 3
   },
   "file_extension": ".py",
   "mimetype": "text/x-python",
   "name": "python",
   "nbconvert_exporter": "python",
   "pygments_lexer": "ipython3",
   "version": "3.9.6"
  }
 },
 "nbformat": 4,
 "nbformat_minor": 5
}