{
 "cells": [
  {
   "cell_type": "code",
   "execution_count": 1,
   "metadata": {
    "collapsed": true
   },
   "outputs": [],
   "source": [
    "import numpy as np\n",
    "import pandas as pd\n",
    "import statsmodels.api as sm\n",
    "import pyblp as blp\n",
    "import torch\n",
    "from torch.autograd import Variable\n",
    "import torch.optim as optim\n",
    "\n",
    "blp.options.digits = 2\n",
    "blp.options.verbose = False\n",
    "nax = np.newaxis"
   ]
  },
  {
   "cell_type": "markdown",
   "source": [
    "The file `ps1_ex4.csv` contains aggregate data on $T=600$ markets in which $J=6$ products compete between each other together with an outside good $j=0$. The utility of consumer $i$ is given by:\n",
    "$$\n",
    "\\begin{aligned}\n",
    "&u_{i j t} \\; = \\; \\widetilde{\\mathbf{x}}_{j t}^{\\prime} \\boldsymbol{\\beta} + \\xi_{j t}+\\widetilde{\\mathbf{x}}_{j t}^{\\prime} \\boldsymbol{\\Gamma} \\boldsymbol{v}_{i}+\\epsilon_{i j t} \\quad j=1, \\ldots, 6 \\\\\n",
    "&u_{i 0 t} \\; = \\; \\epsilon_{i 0 t}\n",
    "\\end{aligned}\n",
    "$$\n",
    "where $x_{j t}$ is a vector of observed product characteristics including the price, $\\xi_{j t}$ is an unobserved product characteristic, $v_{i}$ is a vector of unobserved taste shocks for the product characteristics and $\\epsilon_{i j t}$ is i.i.d T1EV $(0,1)$. Our goal is to to estimate demand parameters $(\\boldsymbol{\\beta}, \\boldsymbol{\\Gamma})$ using the BLP algorithm. As you can see from the data there are only two characteristics $\\widetilde{\\mathbf{x}}_{j t}=\\begin{pmatrix} p_{j t} & x_{j t} \\end{pmatrix}$, namely prices and an observed measure of product quality. Moreover, there are several valid instruments $\\mathbf{z}_{j t}$ that you will use to construct moments to estimate $(\\boldsymbol{\\beta}, \\boldsymbol{\\Gamma})$. Finally, you can assume that $\\Gamma$ is lower triangular e.g.,\n",
    "$$\n",
    "\\boldsymbol{\\Gamma} \\; = \\; \\begin{pmatrix}\n",
    "\\gamma_{11} & 0 \\\\\n",
    "\\gamma_{21} & \\gamma_{22}\n",
    "\\end{pmatrix}\n",
    "$$\n",
    "such that $\\boldsymbol{\\Gamma} \\boldsymbol{\\Gamma}^{\\prime}=\\boldsymbol{\\Omega}$ is a positive definite matrix and that $v_{i}$ is a 2 dimensional vector of i.i.d random taste shocks distributed $\\mathcal{N}\\left(\\mathbf{0}, \\mathbf{I}_2 \\right)$."
   ],
   "metadata": {
    "collapsed": false
   }
  },
  {
   "cell_type": "code",
   "execution_count": 4,
   "outputs": [],
   "source": [
    "# Load the dataset.\n",
    "data_ex4 = pd.read_csv('ps1_ex4.csv')\n",
    "num_prod = data_ex4.choice.max()\n",
    "num_T = data_ex4.market.max()\n",
    "\n",
    "# Create outside option shares and merge into dataset.\n",
    "share_total = data_ex4.groupby(['market'])['shares'].sum().reset_index()\n",
    "share_total.rename(columns={'shares': 's0'}, inplace=True)\n",
    "share_total['s0'] = 1 - share_total['s0']\n",
    "data_ex4 = pd.merge(data_ex4, share_total, on='market')\n",
    "\n",
    "# Create natural log of share ratios\n",
    "data_ex4['sr'] = np.log(data_ex4['shares']/data_ex4['s0'])"
   ],
   "metadata": {
    "collapsed": false,
    "pycharm": {
     "name": "#%%\n"
    }
   }
  },
  {
   "cell_type": "code",
   "execution_count": null,
   "outputs": [],
   "source": [],
   "metadata": {
    "collapsed": false,
    "pycharm": {
     "name": "#%%\n"
    }
   }
  }
 ],
 "metadata": {
  "kernelspec": {
   "display_name": "Python 3",
   "language": "python",
   "name": "python3"
  },
  "language_info": {
   "codemirror_mode": {
    "name": "ipython",
    "version": 2
   },
   "file_extension": ".py",
   "mimetype": "text/x-python",
   "name": "python",
   "nbconvert_exporter": "python",
   "pygments_lexer": "ipython2",
   "version": "2.7.6"
  }
 },
 "nbformat": 4,
 "nbformat_minor": 0
}